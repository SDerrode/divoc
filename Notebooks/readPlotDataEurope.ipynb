{
 "cells": [
  {
   "cell_type": "markdown",
   "metadata": {},
   "source": [
    "## Read et Plot European Centre for Disease Prevention and Control\n",
    "### An agency of the European Union"
   ]
  },
  {
   "cell_type": "markdown",
   "metadata": {},
   "source": [
    "**Petit script permettant de charger avec Panda la dernière version du fichier fournit sur [European Centre for Disease Prevention and Control](https://www.ecdc.europa.eu/en/publications-data/download-todays-data-geographic-distribution-covid-19-cases-worldwide) et production de quelques plots pour vérification.**"
   ]
  },
  {
   "cell_type": "code",
   "execution_count": 1,
   "metadata": {},
   "outputs": [],
   "source": [
    "import pandas as pd"
   ]
  },
  {
   "cell_type": "markdown",
   "metadata": {},
   "source": [
    "## Lecture et sélection des données"
   ]
  },
  {
   "cell_type": "markdown",
   "metadata": {},
   "source": [
    "Lecture des données et sélectioner la colonne 'dateRep' comme index "
   ]
  },
  {
   "cell_type": "code",
   "execution_count": 2,
   "metadata": {},
   "outputs": [
    {
     "data": {
      "text/html": [
       "<div>\n",
       "<style scoped>\n",
       "    .dataframe tbody tr th:only-of-type {\n",
       "        vertical-align: middle;\n",
       "    }\n",
       "\n",
       "    .dataframe tbody tr th {\n",
       "        vertical-align: top;\n",
       "    }\n",
       "\n",
       "    .dataframe thead th {\n",
       "        text-align: right;\n",
       "    }\n",
       "</style>\n",
       "<table border=\"1\" class=\"dataframe\">\n",
       "  <thead>\n",
       "    <tr style=\"text-align: right;\">\n",
       "      <th></th>\n",
       "      <th>day</th>\n",
       "      <th>month</th>\n",
       "      <th>year</th>\n",
       "      <th>cases</th>\n",
       "      <th>deaths</th>\n",
       "      <th>countriesAndTerritories</th>\n",
       "      <th>geoId</th>\n",
       "      <th>countryterritoryCode</th>\n",
       "      <th>popData2018</th>\n",
       "      <th>continentExp</th>\n",
       "    </tr>\n",
       "    <tr>\n",
       "      <th>dateRep</th>\n",
       "      <th></th>\n",
       "      <th></th>\n",
       "      <th></th>\n",
       "      <th></th>\n",
       "      <th></th>\n",
       "      <th></th>\n",
       "      <th></th>\n",
       "      <th></th>\n",
       "      <th></th>\n",
       "      <th></th>\n",
       "    </tr>\n",
       "  </thead>\n",
       "  <tbody>\n",
       "    <tr>\n",
       "      <th>2019-12-31</th>\n",
       "      <td>31</td>\n",
       "      <td>12</td>\n",
       "      <td>2019</td>\n",
       "      <td>0</td>\n",
       "      <td>0</td>\n",
       "      <td>Lebanon</td>\n",
       "      <td>LB</td>\n",
       "      <td>LBN</td>\n",
       "      <td>6848925.0</td>\n",
       "      <td>Asia</td>\n",
       "    </tr>\n",
       "    <tr>\n",
       "      <th>2019-12-31</th>\n",
       "      <td>31</td>\n",
       "      <td>12</td>\n",
       "      <td>2019</td>\n",
       "      <td>0</td>\n",
       "      <td>0</td>\n",
       "      <td>South_Korea</td>\n",
       "      <td>KR</td>\n",
       "      <td>KOR</td>\n",
       "      <td>51635256.0</td>\n",
       "      <td>Asia</td>\n",
       "    </tr>\n",
       "    <tr>\n",
       "      <th>2019-12-31</th>\n",
       "      <td>31</td>\n",
       "      <td>12</td>\n",
       "      <td>2019</td>\n",
       "      <td>0</td>\n",
       "      <td>0</td>\n",
       "      <td>Vietnam</td>\n",
       "      <td>VN</td>\n",
       "      <td>VNM</td>\n",
       "      <td>95540395.0</td>\n",
       "      <td>Asia</td>\n",
       "    </tr>\n",
       "    <tr>\n",
       "      <th>2019-12-31</th>\n",
       "      <td>31</td>\n",
       "      <td>12</td>\n",
       "      <td>2019</td>\n",
       "      <td>0</td>\n",
       "      <td>0</td>\n",
       "      <td>Romania</td>\n",
       "      <td>RO</td>\n",
       "      <td>ROU</td>\n",
       "      <td>19473936.0</td>\n",
       "      <td>Europe</td>\n",
       "    </tr>\n",
       "    <tr>\n",
       "      <th>2019-12-31</th>\n",
       "      <td>31</td>\n",
       "      <td>12</td>\n",
       "      <td>2019</td>\n",
       "      <td>0</td>\n",
       "      <td>0</td>\n",
       "      <td>Greece</td>\n",
       "      <td>EL</td>\n",
       "      <td>GRC</td>\n",
       "      <td>10727668.0</td>\n",
       "      <td>Europe</td>\n",
       "    </tr>\n",
       "  </tbody>\n",
       "</table>\n",
       "</div>"
      ],
      "text/plain": [
       "            day  month  year  cases  deaths countriesAndTerritories geoId  \\\n",
       "dateRep                                                                     \n",
       "2019-12-31   31     12  2019      0       0                 Lebanon    LB   \n",
       "2019-12-31   31     12  2019      0       0             South_Korea    KR   \n",
       "2019-12-31   31     12  2019      0       0                 Vietnam    VN   \n",
       "2019-12-31   31     12  2019      0       0                 Romania    RO   \n",
       "2019-12-31   31     12  2019      0       0                  Greece    EL   \n",
       "\n",
       "           countryterritoryCode  popData2018 continentExp  \n",
       "dateRep                                                    \n",
       "2019-12-31                  LBN    6848925.0         Asia  \n",
       "2019-12-31                  KOR   51635256.0         Asia  \n",
       "2019-12-31                  VNM   95540395.0         Asia  \n",
       "2019-12-31                  ROU   19473936.0       Europe  \n",
       "2019-12-31                  GRC   10727668.0       Europe  "
      ]
     },
     "execution_count": 2,
     "metadata": {},
     "output_type": "execute_result"
    }
   ],
   "source": [
    "url=\"https://opendata.ecdc.europa.eu/covid19/casedistribution/csv\"\n",
    "covid_orig=pd.read_csv(url, sep=',', parse_dates=[0], dayfirst=True)\n",
    "\n",
    "#covid_orig.dtypes\n",
    "covid_orig.set_index('dateRep', inplace=True)\n",
    "covid_orig.sort_index(inplace=True)\n",
    "covid_orig.head()"
   ]
  },
  {
   "cell_type": "markdown",
   "metadata": {},
   "source": [
    "On set 'dateRep' comme index et on enleve les colonnes qui ne nous intéressent pas. \n",
    "Puis on somme les données sur tous les départements pour avoir des résultats sur la france entière"
   ]
  },
  {
   "cell_type": "code",
   "execution_count": 3,
   "metadata": {},
   "outputs": [
    {
     "data": {
      "text/html": [
       "<div>\n",
       "<style scoped>\n",
       "    .dataframe tbody tr th:only-of-type {\n",
       "        vertical-align: middle;\n",
       "    }\n",
       "\n",
       "    .dataframe tbody tr th {\n",
       "        vertical-align: top;\n",
       "    }\n",
       "\n",
       "    .dataframe thead th {\n",
       "        text-align: right;\n",
       "    }\n",
       "</style>\n",
       "<table border=\"1\" class=\"dataframe\">\n",
       "  <thead>\n",
       "    <tr style=\"text-align: right;\">\n",
       "      <th></th>\n",
       "      <th>cases</th>\n",
       "      <th>deaths</th>\n",
       "      <th>countriesAndTerritories</th>\n",
       "      <th>popData2018</th>\n",
       "      <th>continentExp</th>\n",
       "    </tr>\n",
       "    <tr>\n",
       "      <th>dateRep</th>\n",
       "      <th></th>\n",
       "      <th></th>\n",
       "      <th></th>\n",
       "      <th></th>\n",
       "      <th></th>\n",
       "    </tr>\n",
       "  </thead>\n",
       "  <tbody>\n",
       "    <tr>\n",
       "      <th>2019-12-31</th>\n",
       "      <td>0</td>\n",
       "      <td>0</td>\n",
       "      <td>Lebanon</td>\n",
       "      <td>6848925.0</td>\n",
       "      <td>Asia</td>\n",
       "    </tr>\n",
       "    <tr>\n",
       "      <th>2019-12-31</th>\n",
       "      <td>0</td>\n",
       "      <td>0</td>\n",
       "      <td>South_Korea</td>\n",
       "      <td>51635256.0</td>\n",
       "      <td>Asia</td>\n",
       "    </tr>\n",
       "    <tr>\n",
       "      <th>2019-12-31</th>\n",
       "      <td>0</td>\n",
       "      <td>0</td>\n",
       "      <td>Vietnam</td>\n",
       "      <td>95540395.0</td>\n",
       "      <td>Asia</td>\n",
       "    </tr>\n",
       "    <tr>\n",
       "      <th>2019-12-31</th>\n",
       "      <td>0</td>\n",
       "      <td>0</td>\n",
       "      <td>Romania</td>\n",
       "      <td>19473936.0</td>\n",
       "      <td>Europe</td>\n",
       "    </tr>\n",
       "    <tr>\n",
       "      <th>2019-12-31</th>\n",
       "      <td>0</td>\n",
       "      <td>0</td>\n",
       "      <td>Greece</td>\n",
       "      <td>10727668.0</td>\n",
       "      <td>Europe</td>\n",
       "    </tr>\n",
       "  </tbody>\n",
       "</table>\n",
       "</div>"
      ],
      "text/plain": [
       "            cases  deaths countriesAndTerritories  popData2018 continentExp\n",
       "dateRep                                                                    \n",
       "2019-12-31      0       0                 Lebanon    6848925.0         Asia\n",
       "2019-12-31      0       0             South_Korea   51635256.0         Asia\n",
       "2019-12-31      0       0                 Vietnam   95540395.0         Asia\n",
       "2019-12-31      0       0                 Romania   19473936.0       Europe\n",
       "2019-12-31      0       0                  Greece   10727668.0       Europe"
      ]
     },
     "execution_count": 3,
     "metadata": {},
     "output_type": "execute_result"
    }
   ],
   "source": [
    "covid_orig.drop(columns=['day', 'year', 'month', 'geoId', 'countryterritoryCode'], inplace=True)\n",
    "covid_orig.head()"
   ]
  },
  {
   "cell_type": "markdown",
   "metadata": {},
   "source": [
    "On sélectionne la france"
   ]
  },
  {
   "cell_type": "code",
   "execution_count": 4,
   "metadata": {},
   "outputs": [
    {
     "data": {
      "text/html": [
       "<div>\n",
       "<style scoped>\n",
       "    .dataframe tbody tr th:only-of-type {\n",
       "        vertical-align: middle;\n",
       "    }\n",
       "\n",
       "    .dataframe tbody tr th {\n",
       "        vertical-align: top;\n",
       "    }\n",
       "\n",
       "    .dataframe thead th {\n",
       "        text-align: right;\n",
       "    }\n",
       "</style>\n",
       "<table border=\"1\" class=\"dataframe\">\n",
       "  <thead>\n",
       "    <tr style=\"text-align: right;\">\n",
       "      <th></th>\n",
       "      <th>cases</th>\n",
       "      <th>deaths</th>\n",
       "    </tr>\n",
       "    <tr>\n",
       "      <th>dateRep</th>\n",
       "      <th></th>\n",
       "      <th></th>\n",
       "    </tr>\n",
       "  </thead>\n",
       "  <tbody>\n",
       "    <tr>\n",
       "      <th>2020-05-04</th>\n",
       "      <td>131287</td>\n",
       "      <td>24895</td>\n",
       "    </tr>\n",
       "    <tr>\n",
       "      <th>2020-05-05</th>\n",
       "      <td>131863</td>\n",
       "      <td>25201</td>\n",
       "    </tr>\n",
       "    <tr>\n",
       "      <th>2020-05-06</th>\n",
       "      <td>132967</td>\n",
       "      <td>25531</td>\n",
       "    </tr>\n",
       "    <tr>\n",
       "      <th>2020-05-07</th>\n",
       "      <td>137150</td>\n",
       "      <td>25809</td>\n",
       "    </tr>\n",
       "    <tr>\n",
       "      <th>2020-05-08</th>\n",
       "      <td>137779</td>\n",
       "      <td>25987</td>\n",
       "    </tr>\n",
       "  </tbody>\n",
       "</table>\n",
       "</div>"
      ],
      "text/plain": [
       "             cases  deaths\n",
       "dateRep                   \n",
       "2020-05-04  131287   24895\n",
       "2020-05-05  131863   25201\n",
       "2020-05-06  132967   25531\n",
       "2020-05-07  137150   25809\n",
       "2020-05-08  137779   25987"
      ]
     },
     "execution_count": 4,
     "metadata": {},
     "output_type": "execute_result"
    }
   ],
   "source": [
    "covid_france = covid_orig.loc[covid_orig['countriesAndTerritories'] == 'France']\n",
    "#covid_france.dtypes\n",
    "#covid_france.tail()\n",
    "covid_france1 = covid_france[['cases', 'deaths']].cumsum()\n",
    "covid_france1.tail()"
   ]
  },
  {
   "cell_type": "code",
   "execution_count": 5,
   "metadata": {},
   "outputs": [
    {
     "name": "stderr",
     "output_type": "stream",
     "text": [
      "\n",
      "Bad key \"text.kerning_factor\" on line 4 in\n",
      "/Users/MacBook_Derrode/opt/anaconda3/lib/python3.7/site-packages/matplotlib/mpl-data/stylelib/_classic_test_patch.mplstyle.\n",
      "You probably need to get an updated matplotlibrc file from\n",
      "https://github.com/matplotlib/matplotlib/blob/v3.1.3/matplotlibrc.template\n",
      "or from the matplotlib source distribution\n"
     ]
    }
   ],
   "source": [
    "%matplotlib inline\n",
    "import matplotlib\n",
    "import numpy as np\n",
    "import matplotlib.pyplot as plt"
   ]
  },
  {
   "cell_type": "markdown",
   "metadata": {},
   "source": [
    "On sélectionne l'Europe"
   ]
  },
  {
   "cell_type": "code",
   "execution_count": 6,
   "metadata": {},
   "outputs": [],
   "source": [
    "# covid_europe  = covid_orig.loc[covid_orig['continentExp'] == 'Europe']\n",
    "# covid_europe1 = covid_europe.groupby(covid_europe.index)[['cases', 'deaths','popData2018']].sum()\n",
    "# #covid_europe1.tail()\n",
    "# covid_europe2 = covid_europe1[['cases', 'deaths']].cumsum()\n",
    "# covid_europe2.tail()\n",
    "# ax_europe=covid_europe2.plot(figsize=(16, 4), title='Europe')"
   ]
  },
  {
   "cell_type": "markdown",
   "metadata": {},
   "source": [
    "### Régression linéaire"
   ]
  },
  {
   "cell_type": "code",
   "execution_count": 7,
   "metadata": {},
   "outputs": [
    {
     "name": "stderr",
     "output_type": "stream",
     "text": [
      "/Users/MacBook_Derrode/opt/anaconda3/lib/python3.7/site-packages/pandas/core/series.py:679: RuntimeWarning: divide by zero encountered in log\n",
      "  result = getattr(ufunc, method)(*inputs, **kwargs)\n"
     ]
    }
   ],
   "source": [
    "datemin='2020-02-25'\n",
    "dateconf='2020-03-15'\n",
    "datemax='2020-03-29' # papier Bacaër\n",
    "covid_france1['log_cases']  = np.log(covid_france1['cases'])\n",
    "covid_france1['log_deaths'] = np.log(covid_france1['deaths'])\n",
    "logcases_datemin = covid_france1.loc[datemin]['log_cases']\n",
    "logcases_dateconf = covid_france1.loc[dateconf]['log_cases']"
   ]
  },
  {
   "cell_type": "code",
   "execution_count": 8,
   "metadata": {},
   "outputs": [
    {
     "name": "stdout",
     "output_type": "stream",
     "text": [
      "2020-03-16 00:00:00 <class 'str'>\n",
      "2020-03-29 <class 'str'>\n",
      "0.14694892829192246\n",
      "4.716925727984682\n"
     ]
    },
    {
     "data": {
      "image/png": "[encoded data removed]",
      "text/plain": [
       "<Figure size 720x360 with 1 Axes>"
      ]
     },
     "metadata": {
      "needs_background": "light"
     },
     "output_type": "display_data"
    }
   ],
   "source": [
    "# sélectionne une partie des données\n",
    "from datetime import datetime\n",
    "\n",
    "#Plot the data\n",
    "excerpt_france = covid_france1.loc[datemin:datemax]\n",
    "ax_france=excerpt_france.plot(y=['log_cases'], figsize=(10, 5), title='France')\n",
    "ax_france.annotate('Fr conf. date:\\n'+dateconf, xy=(dateconf, ax_france.get_ylim()[0]), xycoords='data', xytext=(dateconf, 4), bbox=dict(boxstyle=\"round4,pad=.5\", fc=\"0.9\"), arrowprops=dict(arrowstyle=\"->\", color='blue', connectionstyle=\"angle3,angleA=0,angleB=-90\"));\n",
    "\n",
    "#Plot the regression before\n",
    "excerpt_france1 = covid_france1.loc[datemin:dateconf]\n",
    "Xa_before = (excerpt_france1.index - excerpt_france1.index[0]).days.values\n",
    "ya_before = excerpt_france1['log_cases'].values\n",
    "m_before, b_before = np.polyfit(Xa_before, ya_before, 1)\n",
    "ax_france.plot([excerpt_france1.index[0], excerpt_france1.index[-1]], [m_before*Xa_before[0] + b_before, m_before*Xa_before[-1] + b_before], color='magenta');\n",
    "\n",
    "d1 = datetime.strptime(datemin,\"%Y-%m-%d\")\n",
    "d2 = datetime.strptime(dateconf,\"%Y-%m-%d\")\n",
    "d = d1.date() + (d2.date()-d1.date()) / 2\n",
    "ax_france.annotate('Slope: '+\"%.3f\"%(m_before)+\"\\nDoubling time: \"+\"%.1f\"%(np.log(2)/m_before), xy=(d, excerpt_france1['log_cases'][d]), xycoords='data', xytext=(d, 8), bbox=dict(boxstyle=\"round4,pad=.5\", fc=\"0.9\"), arrowprops=dict(arrowstyle=\"->\", color='magenta', connectionstyle=\"angle3,angleA=0,angleB=-90\"));\n",
    "\n",
    "#Plot the regression before\n",
    "from datetime import timedelta\n",
    "dateconf_p1 = str(datetime.strptime(dateconf,\"%Y-%m-%d\")+pd.DateOffset(1))\n",
    "print(dateconf_p1, type(dateconf_p1))\n",
    "print(datemax, type(datemax))\n",
    "excerpt_france2 = covid_france1.loc[dateconf_p1:datemax]\n",
    "Xa_after = (excerpt_france2.index - excerpt_france2.index[0]).days.values\n",
    "ya_after = excerpt_france2['log_cases'].values\n",
    "m_after, b_after = np.polyfit(Xa_after, ya_after, 1)\n",
    "ax_france.plot([excerpt_france2.index[0], excerpt_france2.index[-1]], [m_after*Xa_after[0] + b_after, m_after*Xa_after[-1] + b_after], color='magenta');\n",
    "\n",
    "d1 = datetime.strptime(dateconf_p1,'%Y-%m-%d %H:%M:%S')\n",
    "d2 = datetime.strptime(datemax,\"%Y-%m-%d\")\n",
    "d = d1.date() + (d2.date()-d1.date()) / 2\n",
    "print(m_after)\n",
    "print(np.log(2)/m_after)\n",
    "ax_france.annotate('Slope: '+\"%.3f\"%(m_after)+\"\\nDoubling time: \"+\"%.1f\"%(np.log(2)/m_after), xy=(d, excerpt_france2['log_cases'][d]), xycoords='data', xytext=(d, 6), bbox=dict(boxstyle=\"round4,pad=.5\", fc=\"0.9\"), arrowprops=dict(arrowstyle=\"->\", color='magenta', connectionstyle=\"angle3,angleA=0,angleB=-90\"));\n"
   ]
  },
  {
   "cell_type": "markdown",
   "metadata": {},
   "source": [
    "### Regression linaire"
   ]
  },
  {
   "cell_type": "code",
   "execution_count": null,
   "metadata": {},
   "outputs": [],
   "source": []
  }
 ],
 "metadata": {
  "kernelspec": {
   "display_name": "Python 3",
   "language": "python",
   "name": "python3"
  },
  "language_info": {
   "codemirror_mode": {
    "name": "ipython",
    "version": 3
   },
   "file_extension": ".py",
   "mimetype": "text/x-python",
   "name": "python",
   "nbconvert_exporter": "python",
   "pygments_lexer": "ipython3",
   "version": "3.7.7"
  }
 },
 "nbformat": 4,
 "nbformat_minor": 4
}
